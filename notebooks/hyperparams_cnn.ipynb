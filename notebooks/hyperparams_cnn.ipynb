{
 "cells": [
  {
   "cell_type": "code",
   "execution_count": null,
   "id": "44820b71",
   "metadata": {},
   "outputs": [],
   "source": [
    "import os\n",
    "from pathlib import Path\n",
    "\n",
    "import pytorch_lightning as pl\n",
    "import ray\n",
    "import torch\n",
    "import torch.nn as nn\n",
    "from pytorch_lightning.loggers import WandbLogger\n",
    "from ray import tune\n",
    "from ray.tune.integration.pytorch_lightning import TuneReportCallback\n",
    "from ray.tune.schedulers import ASHAScheduler\n",
    "from torch.optim import lr_scheduler, SGD\n",
    "from torch.utils.data import DataLoader\n",
    "from torchvision import models, transforms\n",
    "from torchvision.datasets import ImageFolder"
   ]
  },
  {
   "cell_type": "code",
   "execution_count": null,
   "id": "2f59ebb6",
   "metadata": {
    "pycharm": {
     "name": "#%%\n"
    }
   },
   "outputs": [],
   "source": [
    "GPUS = 0\n",
    "PROJECT_PATH = '/home/maria/Documents/DL_Project'"
   ]
  },
  {
   "cell_type": "code",
   "execution_count": null,
   "id": "0747c019",
   "metadata": {},
   "outputs": [],
   "source": [
    "def prepare_data(path: Path):\n",
    "    # Data transformation need for ResNet18. It applies only basic cropping\n",
    "    # and normalization.\n",
    "    data_transforms = {\n",
    "        \"train\":\n",
    "            transforms.Compose([\n",
    "                transforms.Resize(128),\n",
    "                transforms.RandomResizedCrop(112),\n",
    "                transforms.ToTensor(),\n",
    "                transforms.Normalize([0.485, 0.456, 0.406],\n",
    "                                     [0.229, 0.224, 0.225])\n",
    "            ]),\n",
    "        \"val\":\n",
    "            transforms.Compose([\n",
    "                transforms.Resize(128),\n",
    "                transforms.CenterCrop(112),\n",
    "                transforms.ToTensor(),\n",
    "                transforms.Normalize([0.485, 0.456, 0.406],\n",
    "                                     [0.229, 0.224, 0.225])\n",
    "            ]),\n",
    "        \"test\":\n",
    "            transforms.Compose([\n",
    "                transforms.Resize(128),\n",
    "                transforms.CenterCrop(112),\n",
    "                transforms.ToTensor(),\n",
    "                transforms.Normalize([0.485, 0.456, 0.406],\n",
    "                                     [0.229, 0.224, 0.225])\n",
    "            ])\n",
    "    }\n",
    "\n",
    "\n",
    "    # Creates dataset based on a given path.\n",
    "    image_datasets = {\n",
    "        mode: ImageFolder(path / mode, data_transforms[mode])\n",
    "        for mode in [\"train\", \"val\", \"test\"]\n",
    "    }\n",
    "    #Creates dataloaders from ImageFolders.\n",
    "    dataloaders = {\n",
    "        mode: DataLoader(image_datasets[mode],\n",
    "                         batch_size=4,\n",
    "                         shuffle=True,\n",
    "                         num_workers=2) for mode in [\"train\", \"val\", \"test\"]\n",
    "    }\n",
    "\n",
    "    dataset_sizes = {\n",
    "        mode: len(image_datasets[mode]) for mode in [\"train\", \"val\", \"test\"]\n",
    "    }\n",
    "    class_names = image_datasets[\"train\"].classes\n",
    "    return dataloaders, dataset_sizes, class_names"
   ]
  },
  {
   "cell_type": "code",
   "execution_count": null,
   "id": "912afc5e",
   "metadata": {
    "pycharm": {
     "name": "#%%\n"
    }
   },
   "outputs": [],
   "source": [
    "class CNNLit(pl.LightningModule):\n",
    "\n",
    "    def __init__(self, config):\n",
    "        super().__init__()\n",
    "\n",
    "        self.lr = config[\"lr\"]\n",
    "        self.momentum = config[\"momentum\"]\n",
    "        self.step_size = config[\"step_size\"]\n",
    "        self.gamma = config[\"gamma\"]\n",
    "        self.save_hyperparameters()\n",
    "\n",
    "        self.cnn_layers = nn.Sequential(\n",
    "            nn.Conv2d(3, 32, kernel_size=3),\n",
    "            nn.ReLU(inplace=True),\n",
    "            nn.MaxPool2d(kernel_size=2, stride=2),\n",
    "            nn.Conv2d(32, 64, kernel_size=5),\n",
    "            nn.ReLU(inplace=True),\n",
    "            nn.MaxPool2d(kernel_size=2, stride=2),\n",
    "        )\n",
    "        \n",
    "        self.linear_layers = nn.Sequential(\n",
    "            nn.Linear(40000, 1024),\n",
    "            nn.ReLU(inplace=True),\n",
    "            nn.Linear(1024, 14),\n",
    "        )\n",
    "        \n",
    "    def forward(self, x):\n",
    "        x = self.cnn_layers(x)\n",
    "        x = x.view(x.size(0), -1)\n",
    "        outputs = self.linear_layers(x)\n",
    "        return outputs\n",
    "\n",
    "    def loss_fn(self, out, target):\n",
    "        return nn.CrossEntropyLoss()(out, target)\n",
    "\n",
    "    def configure_optimizers(self):\n",
    "        optimizer = SGD(self.parameters(), lr=self.lr, momentum=self.momentum)\n",
    "        scheduler = lr_scheduler.StepLR(optimizer, step_size=self.step_size, gamma=self.gamma)\n",
    "        return [optimizer], [scheduler]\n",
    "\n",
    "    def training_step(self, batch, batch_idx):\n",
    "        x, y = batch\n",
    "        outputs = self(x)\n",
    "        loss = self.loss_fn(outputs, y)\n",
    "        _, preds = torch.max(outputs, 1)\n",
    "        correct_preds = torch.sum(preds == y.data)\n",
    "        return {\"correct\": correct_preds, \"loss\": loss, \"total\": len(y.data)}\n",
    "\n",
    "    def validation_step(self, batch, batch_idx):\n",
    "        x, y = batch\n",
    "        outputs = self(x)\n",
    "        loss = self.loss_fn(outputs, y)\n",
    "        _, preds = torch.max(outputs, 1)\n",
    "        correct_preds = torch.sum(preds == y.data)\n",
    "        return {\"correct\": correct_preds, \"loss\": loss, \"total\": len(y.data)}\n",
    "    \n",
    "    def test_step(self, batch, batch_idx):\n",
    "        x, y = batch\n",
    "        outputs = self(x)\n",
    "        loss = self.loss_fn(outputs, y)\n",
    "        _, preds = torch.max(outputs, 1)\n",
    "        correct_preds = torch.sum(preds == y.data)\n",
    "        return {\"correct\": correct_preds, \"loss\": loss, \"total\": len(y.data)}\n",
    "\n",
    "    def training_epoch_end(self, outputs):\n",
    "        avg_loss = torch.stack([x['loss'] for x in outputs]).mean()\n",
    "        correct=sum([x[\"correct\"] for x in outputs])\n",
    "        total=sum([x[\"total\"] for x in outputs])\n",
    "        self.log('train_accuracy', correct/total)\n",
    "        self.log('train_loss',  avg_loss)\n",
    "\n",
    "    def validation_epoch_end(self, outputs):\n",
    "        avg_loss = torch.stack([x['loss'] for x in outputs]).mean()\n",
    "        correct=sum([x[\"correct\"] for x in outputs])\n",
    "        total=sum([x[\"total\"] for x in outputs])\n",
    "\n",
    "        self.log('val_accuracy', correct/total)\n",
    "        self.log('val_loss',  avg_loss)\n",
    "\n",
    "    def test_epoch_end(self, outputs):\n",
    "        avg_loss = torch.stack([x['loss'] for x in outputs]).mean()\n",
    "        correct=sum([x[\"correct\"] for x in outputs])\n",
    "        total=sum([x[\"total\"] for x in outputs])\n",
    "        self.log('test_accuracy', correct/total)\n",
    "        self.log('test_loss',  avg_loss)"
   ]
  },
  {
   "cell_type": "code",
   "execution_count": null,
   "id": "b4ae1bec-6a28-4b84-8304-ae9b1734ff68",
   "metadata": {
    "pycharm": {
     "name": "#%%\n"
    }
   },
   "outputs": [],
   "source": [
    "def train_model(config, num_epochs=10):\n",
    "\n",
    "    dataloaders, dataset_sizes, class_names = prepare_data(\n",
    "        Path(f\"{PROJECT_PATH}/data/02_intermediate/sharks\"))\n",
    "\n",
    "    model = CNNLit(config)\n",
    "\n",
    "    checkpoint_callback = pl.callbacks.ModelCheckpoint(\n",
    "        monitor='val_accuracy',\n",
    "        dirpath=f'{PROJECT_PATH}/data/06_models/',\n",
    "        filename='cnn_model-{epoch:02d}-{val_accuracy:.2f}',\n",
    "        save_top_k=1,\n",
    "        mode='max')\n",
    "\n",
    "    metrics = {\"loss\": \"val_loss\", \"acc\": \"val_accuracy\"}\n",
    "    tune_callback = TuneReportCallback(metrics, on=\"validation_end\")\n",
    "\n",
    "    trainer = pl.Trainer(logger=WandbLogger(save_dir=f\"{PROJECT_PATH}/logs/\", project=\"cnn_hyperparams_search\"), gpus=GPUS, max_epochs=num_epochs, callbacks=[checkpoint_callback, tune_callback])\n",
    "    trainer.fit(model, dataloaders[\"train\"], dataloaders[\"val\"])"
   ]
  },
  {
   "cell_type": "code",
   "execution_count": null,
   "id": "d4fbeddb",
   "metadata": {
    "pycharm": {
     "name": "#%%\n"
    }
   },
   "outputs": [],
   "source": [
    "torch.cuda.empty_cache()\n",
    "\n",
    "ray.shutdown()\n",
    "ray.init(log_to_driver=False, object_store_memory=10**9)\n",
    "\n",
    "config = {\n",
    "    \"lr\": tune.uniform(0.0001, 0.01),\n",
    "    \"momentum\": tune.uniform(0.05, 0.5),\n",
    "    \"step_size\": tune.choice([1, 2, 4, 6, 8, 10]),\n",
    "    \"gamma\": tune.uniform(0.05, 0.5)\n",
    "}\n",
    "\n",
    "trainable = tune.with_parameters(\n",
    "    train_model,\n",
    "    num_epochs=30\n",
    ")\n",
    "\n",
    "analysis = tune.run(\n",
    "    trainable,\n",
    "    resources_per_trial={\n",
    "        \"cpu\": 6,\n",
    "        \"gpu\": GPUS\n",
    "    },\n",
    "    config=config,\n",
    "    num_samples = 20,\n",
    "    scheduler=ASHAScheduler(metric=\"acc\", mode=\"max\"),\n",
    "    name = \"tune_cnn\")"
   ]
  },
  {
   "cell_type": "code",
   "execution_count": null,
   "id": "924bd528",
   "metadata": {
    "pycharm": {
     "name": "#%%\n"
    }
   },
   "outputs": [],
   "source": [
    "print(analysis.get_best_config(\"acc\", \"max\"))"
   ]
  },
  {
   "cell_type": "code",
   "execution_count": null,
   "id": "7953d6fb",
   "metadata": {
    "pycharm": {
     "name": "#%%\n"
    }
   },
   "outputs": [],
   "source": [
    "dfs = analysis.trial_dataframes"
   ]
  },
  {
   "cell_type": "code",
   "execution_count": null,
   "id": "b7894936",
   "metadata": {
    "pycharm": {
     "name": "#%%\n"
    }
   },
   "outputs": [],
   "source": [
    "# Plot by epoch\n",
    "import matplotlib.pyplot as plt\n",
    "ax = None  # This plots everything on the same plot\n",
    "for d in dfs.values():\n",
    "    print(d)\n",
    "    ax = plt.plot(d.acc)"
   ]
  },
  {
   "cell_type": "code",
   "execution_count": null,
   "id": "5c620bd6",
   "metadata": {
    "pycharm": {
     "name": "#%%\n"
    }
   },
   "outputs": [],
   "source": []
  },
  {
   "cell_type": "code",
   "execution_count": null,
   "id": "5eb6ac5f",
   "metadata": {
    "pycharm": {
     "name": "#%%\n"
    }
   },
   "outputs": [],
   "source": []
  }
 ],
 "metadata": {
  "kernelspec": {
   "display_name": "Python 3 (ipykernel)",
   "language": "python",
   "name": "python3"
  },
  "language_info": {
   "codemirror_mode": {
    "name": "ipython",
    "version": 3
   },
   "file_extension": ".py",
   "mimetype": "text/x-python",
   "name": "python",
   "nbconvert_exporter": "python",
   "pygments_lexer": "ipython3",
   "version": "3.8.12"
  }
 },
 "nbformat": 4,
 "nbformat_minor": 5
}