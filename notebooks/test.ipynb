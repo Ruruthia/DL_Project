{
 "cells": [
  {
   "cell_type": "code",
   "execution_count": 25,
   "outputs": [],
   "source": [
    "from collections import Counter\n",
    "import numpy as np\n",
    "from sklearn.model_selection import train_test_split\n",
    "from torch.utils.data import Subset\n",
    "from torchvision.datasets import ImageFolder"
   ],
   "metadata": {
    "collapsed": false,
    "pycharm": {
     "name": "#%%\n"
    }
   }
  },
  {
   "cell_type": "code",
   "execution_count": null,
   "outputs": [],
   "source": [
    "img_f = ImageFolder(root='/home/maria/Documents/DL_Project/data/01_raw/sharks')"
   ],
   "metadata": {
    "collapsed": false,
    "pycharm": {
     "name": "#%%\n"
    }
   }
  },
  {
   "cell_type": "code",
   "execution_count": 2,
   "outputs": [
    {
     "data": {
      "text/plain": "1546"
     },
     "execution_count": 2,
     "metadata": {},
     "output_type": "execute_result"
    }
   ],
   "source": [
    "len(img_f)"
   ],
   "metadata": {
    "collapsed": false,
    "pycharm": {
     "name": "#%%\n"
    }
   }
  },
  {
   "cell_type": "code",
   "execution_count": 29,
   "outputs": [],
   "source": [
    "train_indices, val_test_indices, _, val_test_targets = train_test_split(\n",
    "    range(len(img_f)),\n",
    "    img_f.targets,\n",
    "    stratify=img_f.targets,\n",
    "    test_size=0.4,\n",
    "    random_state=42\n",
    ")\n",
    "\n",
    "val_indices, test_indices, _, _ = train_test_split(\n",
    "    val_test_indices,\n",
    "    val_test_targets,\n",
    "    stratify=val_test_targets,\n",
    "    test_size=0.5,\n",
    "    random_state=42\n",
    ")"
   ],
   "metadata": {
    "collapsed": false,
    "pycharm": {
     "name": "#%%\n"
    }
   }
  },
  {
   "cell_type": "code",
   "execution_count": 31,
   "outputs": [
    {
     "name": "stdout",
     "output_type": "stream",
     "text": [
      "{0: 93, 1: 114, 2: 107, 3: 109, 4: 127, 5: 119, 6: 101, 7: 73, 8: 97, 9: 118, 10: 97, 11: 132, 12: 134, 13: 125}\n"
     ]
    }
   ],
   "source": [
    "print(dict(Counter(np.array(img_f.targets))))"
   ],
   "metadata": {
    "collapsed": false,
    "pycharm": {
     "name": "#%%\n"
    }
   }
  },
  {
   "cell_type": "code",
   "execution_count": 32,
   "outputs": [
    {
     "name": "stdout",
     "output_type": "stream",
     "text": [
      "{10: 58, 1: 68, 0: 56, 2: 64, 11: 79, 9: 71, 3: 66, 6: 61, 13: 75, 12: 80, 7: 44, 8: 58, 5: 71, 4: 76}\n"
     ]
    }
   ],
   "source": [
    "print(dict(Counter(np.array(img_f.targets)[np.array(train_indices)])))\n",
    "print(dict(Counter(np.array(img_f.targets)[np.array(val_indices)])))\n",
    "print(dict(Counter(np.array(img_f.targets)[np.array(test_indices)])))"
   ],
   "metadata": {
    "collapsed": false,
    "pycharm": {
     "name": "#%%\n"
    }
   }
  },
  {
   "cell_type": "code",
   "execution_count": 14,
   "outputs": [],
   "source": [
    "train_f = Subset(img_f, train_indices)"
   ],
   "metadata": {
    "collapsed": false,
    "pycharm": {
     "name": "#%%\n"
    }
   }
  }
 ],
 "metadata": {
  "kernelspec": {
   "display_name": "Python 3",
   "language": "python",
   "name": "python3"
  },
  "language_info": {
   "codemirror_mode": {
    "name": "ipython",
    "version": 2
   },
   "file_extension": ".py",
   "mimetype": "text/x-python",
   "name": "python",
   "nbconvert_exporter": "python",
   "pygments_lexer": "ipython2",
   "version": "2.7.6"
  }
 },
 "nbformat": 4,
 "nbformat_minor": 0
}